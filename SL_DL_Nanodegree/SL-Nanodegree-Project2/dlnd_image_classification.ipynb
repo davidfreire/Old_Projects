{
 "cells": [
  {
   "cell_type": "markdown",
   "metadata": {
    "collapsed": true
   },
   "source": [
    "# Image Classification\n",
    "In this project, you'll classify images from the [CIFAR-10 dataset](https://www.cs.toronto.edu/~kriz/cifar.html).  The dataset consists of airplanes, dogs, cats, and other objects. You'll preprocess the images, then train a convolutional neural network on all the samples. The images need to be normalized and the labels need to be one-hot encoded.  You'll get to apply what you learned and build a convolutional, max pooling, dropout, and fully connected layers.  At the end, you'll get to see your neural network's predictions on the sample images.\n",
    "## Get the Data\n",
    "Run the following cell to download the [CIFAR-10 dataset for python](https://www.cs.toronto.edu/~kriz/cifar-10-python.tar.gz)."
   ]
  },
  {
   "cell_type": "code",
   "execution_count": 142,
   "metadata": {
    "collapsed": false
   },
   "outputs": [
    {
     "name": "stdout",
     "output_type": "stream",
     "text": [
      "All files found!\n"
     ]
    }
   ],
   "source": [
    "\"\"\"\n",
    "DON'T MODIFY ANYTHING IN THIS CELL THAT IS BELOW THIS LINE\n",
    "\"\"\"\n",
    "from urllib.request import urlretrieve\n",
    "from os.path import isfile, isdir\n",
    "from tqdm import tqdm\n",
    "import problem_unittests as tests\n",
    "import tarfile\n",
    "\n",
    "cifar10_dataset_folder_path = 'cifar-10-batches-py'\n",
    "\n",
    "class DLProgress(tqdm):\n",
    "    last_block = 0\n",
    "\n",
    "    def hook(self, block_num=1, block_size=1, total_size=None):\n",
    "        self.total = total_size\n",
    "        self.update((block_num - self.last_block) * block_size)\n",
    "        self.last_block = block_num\n",
    "\n",
    "if not isfile('cifar-10-python.tar.gz'):\n",
    "    with DLProgress(unit='B', unit_scale=True, miniters=1, desc='CIFAR-10 Dataset') as pbar:\n",
    "        urlretrieve(\n",
    "            'https://www.cs.toronto.edu/~kriz/cifar-10-python.tar.gz',\n",
    "            'cifar-10-python.tar.gz',\n",
    "            pbar.hook)\n",
    "\n",
    "if not isdir(cifar10_dataset_folder_path):\n",
    "    with tarfile.open('cifar-10-python.tar.gz') as tar:\n",
    "        tar.extractall()\n",
    "        tar.close()\n",
    "\n",
    "\n",
    "tests.test_folder_path(cifar10_dataset_folder_path)"
   ]
  },
  {
   "cell_type": "markdown",
   "metadata": {},
   "source": [
    "## Explore the Data\n",
    "The dataset is broken into batches to prevent your machine from running out of memory.  The CIFAR-10 dataset consists of 5 batches, named `data_batch_1`, `data_batch_2`, etc.. Each batch contains the labels and images that are one of the following:\n",
    "* airplane\n",
    "* automobile\n",
    "* bird\n",
    "* cat\n",
    "* deer\n",
    "* dog\n",
    "* frog\n",
    "* horse\n",
    "* ship\n",
    "* truck\n",
    "\n",
    "Understanding a dataset is part of making predictions on the data.  Play around with the code cell below by changing the `batch_id` and `sample_id`. The `batch_id` is the id for a batch (1-5). The `sample_id` is the id for a image and label pair in the batch.\n",
    "\n",
    "Ask yourself \"What are all possible labels?\", \"What is the range of values for the image data?\", \"Are the labels in order or random?\".  Answers to questions like these will help you preprocess the data and end up with better predictions."
   ]
  },
  {
   "cell_type": "code",
   "execution_count": 143,
   "metadata": {
    "collapsed": false
   },
   "outputs": [
    {
     "name": "stdout",
     "output_type": "stream",
     "text": [
      "\n",
      "Stats of batch 1:\n",
      "Samples: 10000\n",
      "Label Counts: {0: 1005, 1: 974, 2: 1032, 3: 1016, 4: 999, 5: 937, 6: 1030, 7: 1001, 8: 1025, 9: 981}\n",
      "First 20 Labels: [6, 9, 9, 4, 1, 1, 2, 7, 8, 3, 4, 7, 7, 2, 9, 9, 9, 3, 2, 6]\n",
      "\n",
      "Example of Image 5:\n",
      "Image - Min Value: 0 Max Value: 252\n",
      "Image - Shape: (32, 32, 3)\n",
      "Label - Label Id: 1 Name: automobile\n"
     ]
    },
    {
     "data": {
      "image/png": "[encoded data removed]",
      "text/plain": [
       "<matplotlib.figure.Figure at 0x11b6c7358>"
      ]
     },
     "metadata": {
      "image/png": {
       "height": 250,
       "width": 253
      }
     },
     "output_type": "display_data"
    }
   ],
   "source": [
    "%matplotlib inline\n",
    "%config InlineBackend.figure_format = 'retina'\n",
    "\n",
    "import helper\n",
    "import numpy as np\n",
    "\n",
    "# Explore the dataset\n",
    "batch_id = 1\n",
    "sample_id = 5\n",
    "helper.display_stats(cifar10_dataset_folder_path, batch_id, sample_id)"
   ]
  },
  {
   "cell_type": "markdown",
   "metadata": {},
   "source": [
    "## Implement Preprocess Functions\n",
    "### Normalize\n",
    "In the cell below, implement the `normalize` function to take in image data, `x`, and return it as a normalized Numpy array. The values should be in the range of 0 to 1, inclusive.  The return object should be the same shape as `x`."
   ]
  },
  {
   "cell_type": "code",
   "execution_count": 144,
   "metadata": {
    "collapsed": false
   },
   "outputs": [
    {
     "name": "stdout",
     "output_type": "stream",
     "text": [
      "Tests Passed\n"
     ]
    }
   ],
   "source": [
    "def normalize(x):\n",
    "    \"\"\"\n",
    "    Normalize a list of sample image data in the range of 0 to 1\n",
    "    : x: List of image data.  The image shape is (32, 32, 3)\n",
    "    : return: Numpy array of normalize data\n",
    "    \"\"\"\n",
    "    \n",
    "    normalized_data=(x-0)/(255-0)\n",
    "    return normalized_data\n",
    "\n",
    "\n",
    "\"\"\"\n",
    "DON'T MODIFY ANYTHING IN THIS CELL THAT IS BELOW THIS LINE\n",
    "\"\"\"\n",
    "tests.test_normalize(normalize)"
   ]
  },
  {
   "cell_type": "markdown",
   "metadata": {},
   "source": [
    "### One-hot encode\n",
    "Just like the previous code cell, you'll be implementing a function for preprocessing.  This time, you'll implement the `one_hot_encode` function. The input, `x`, are a list of labels.  Implement the function to return the list of labels as One-Hot encoded Numpy array.  The possible values for labels are 0 to 9. The one-hot encoding function should return the same encoding for each value between each call to `one_hot_encode`.  Make sure to save the map of encodings outside the function.\n",
    "\n",
    "Hint: Don't reinvent the wheel."
   ]
  },
  {
   "cell_type": "markdown",
   "metadata": {},
   "source": [
    "### Randomize Data\n",
    "As you saw from exploring the data above, the order of the samples are randomized.  It doesn't hurt to randomize it again, but you don't need to for this dataset."
   ]
  },
  {
   "cell_type": "code",
   "execution_count": 145,
   "metadata": {
    "collapsed": false
   },
   "outputs": [
    {
     "name": "stdout",
     "output_type": "stream",
     "text": [
      "Tests Passed\n"
     ]
    }
   ],
   "source": [
    "def one_hot_encode(x):\n",
    "    \"\"\"\n",
    "    One hot encode a list of sample labels. Return a one-hot encoded vector for each label.\n",
    "    : x: List of sample Labels\n",
    "    : return: Numpy array of one-hot encoded labels\n",
    "    \"\"\"\n",
    "      \n",
    "    \n",
    "    # TODO: Implement Function\n",
    "    one_hot_vect = np.zeros((len(x),10),dtype=int)\n",
    "    one_hot_vect[np.arange(len(x)), x] = int(1)\n",
    "    # This can be also done by using numpy: np.eye(10)[x]\n",
    "    return one_hot_vect\n",
    "\n",
    "\n",
    "\"\"\"\n",
    "DON'T MODIFY ANYTHING IN THIS CELL THAT IS BELOW THIS LINE\n",
    "\"\"\"\n",
    "tests.test_one_hot_encode(one_hot_encode)"
   ]
  },
  {
   "cell_type": "markdown",
   "metadata": {},
   "source": [
    "## Preprocess all the data and save it\n",
    "Running the code cell below will preprocess all the CIFAR-10 data and save it to file. The code below also uses 10% of the training data for validation."
   ]
  },
  {
   "cell_type": "code",
   "execution_count": 146,
   "metadata": {
    "collapsed": false
   },
   "outputs": [],
   "source": [
    "\"\"\"\n",
    "DON'T MODIFY ANYTHING IN THIS CELL\n",
    "\"\"\"\n",
    "# Preprocess Training, Validation, and Testing Data\n",
    "helper.preprocess_and_save_data(cifar10_dataset_folder_path, normalize, one_hot_encode)"
   ]
  },
  {
   "cell_type": "markdown",
   "metadata": {},
   "source": [
    "# Check Point\n",
    "This is your first checkpoint.  If you ever decide to come back to this notebook or have to restart the notebook, you can start from here.  The preprocessed data has been saved to disk."
   ]
  },
  {
   "cell_type": "code",
   "execution_count": 147,
   "metadata": {
    "collapsed": true
   },
   "outputs": [],
   "source": [
    "\"\"\"\n",
    "DON'T MODIFY ANYTHING IN THIS CELL\n",
    "\"\"\"\n",
    "import pickle\n",
    "import problem_unittests as tests\n",
    "import helper\n",
    "\n",
    "# Load the Preprocessed Validation data\n",
    "valid_features, valid_labels = pickle.load(open('preprocess_validation.p', mode='rb'))"
   ]
  },
  {
   "cell_type": "markdown",
   "metadata": {},
   "source": [
    "## Build the network\n",
    "For the neural network, you'll build each layer into a function.  Most of the code you've seen has been outside of functions. To test your code more thoroughly, we require that you put each layer in a function.  This allows us to give you better feedback and test for simple mistakes using our unittests before you submit your project.\n",
    "\n",
    ">**Note:** If you're finding it hard to dedicate enough time for this course each week, we've provided a small shortcut to this part of the project. In the next couple of problems, you'll have the option to use classes from the [TensorFlow Layers](https://www.tensorflow.org/api_docs/python/tf/layers) or [TensorFlow Layers (contrib)](https://www.tensorflow.org/api_guides/python/contrib.layers) packages to build each layer, except the layers you build in the \"Convolutional and Max Pooling Layer\" section.  TF Layers is similar to Keras's and TFLearn's abstraction to layers, so it's easy to pickup.\n",
    "\n",
    ">However, if you would like to get the most out of this course, try to solve all the problems _without_ using anything from the TF Layers packages. You **can** still use classes from other packages that happen to have the same name as ones you find in TF Layers! For example, instead of using the TF Layers version of the `conv2d` class, [tf.layers.conv2d](https://www.tensorflow.org/api_docs/python/tf/layers/conv2d), you would want to use the TF Neural Network version of `conv2d`, [tf.nn.conv2d](https://www.tensorflow.org/api_docs/python/tf/nn/conv2d). \n",
    "\n",
    "Let's begin!\n",
    "\n",
    "### Input\n",
    "The neural network needs to read the image data, one-hot encoded labels, and dropout keep probability. Implement the following functions\n",
    "* Implement `neural_net_image_input`\n",
    " * Return a [TF Placeholder](https://www.tensorflow.org/api_docs/python/tf/placeholder)\n",
    " * Set the shape using `image_shape` with batch size set to `None`.\n",
    " * Name the TensorFlow placeholder \"x\" using the TensorFlow `name` parameter in the [TF Placeholder](https://www.tensorflow.org/api_docs/python/tf/placeholder).\n",
    "* Implement `neural_net_label_input`\n",
    " * Return a [TF Placeholder](https://www.tensorflow.org/api_docs/python/tf/placeholder)\n",
    " * Set the shape using `n_classes` with batch size set to `None`.\n",
    " * Name the TensorFlow placeholder \"y\" using the TensorFlow `name` parameter in the [TF Placeholder](https://www.tensorflow.org/api_docs/python/tf/placeholder).\n",
    "* Implement `neural_net_keep_prob_input`\n",
    " * Return a [TF Placeholder](https://www.tensorflow.org/api_docs/python/tf/placeholder) for dropout keep probability.\n",
    " * Name the TensorFlow placeholder \"keep_prob\" using the TensorFlow `name` parameter in the [TF Placeholder](https://www.tensorflow.org/api_docs/python/tf/placeholder).\n",
    "\n",
    "These names will be used at the end of the project to load your saved model.\n",
    "\n",
    "Note: `None` for shapes in TensorFlow allow for a dynamic size."
   ]
  },
  {
   "cell_type": "code",
   "execution_count": 148,
   "metadata": {
    "collapsed": false
   },
   "outputs": [
    {
     "name": "stdout",
     "output_type": "stream",
     "text": [
      "Image Input Tests Passed.\n",
      "Label Input Tests Passed.\n",
      "Keep Prob Tests Passed.\n"
     ]
    }
   ],
   "source": [
    "import tensorflow as tf\n",
    "\n",
    "def neural_net_image_input(image_shape):\n",
    "    \"\"\"\n",
    "    Return a Tensor for a bach of image input\n",
    "    : image_shape: Shape of the images\n",
    "    : return: Tensor for image input.\n",
    "    \"\"\"\n",
    "    \n",
    "    x = tf.placeholder(tf.float32,[None, image_shape[0],image_shape[1],image_shape[2]], name='x')\n",
    "    return x\n",
    "\n",
    "\n",
    "def neural_net_label_input(n_classes):\n",
    "    \"\"\"\n",
    "    Return a Tensor for a batch of label input\n",
    "    : n_classes: Number of classes\n",
    "    : return: Tensor for label input.\n",
    "    \"\"\"\n",
    "    y = tf.placeholder(tf.float32,[None, n_classes],name='y')\n",
    "    return y\n",
    "\n",
    "\n",
    "def neural_net_keep_prob_input():\n",
    "    \"\"\"\n",
    "    Return a Tensor for keep probability\n",
    "    : return: Tensor for keep probability.\n",
    "    \"\"\"\n",
    "    keep_prob = tf.placeholder(tf.float32, name='keep_prob')\n",
    "    return keep_prob\n",
    "\n",
    "\n",
    "\"\"\"\n",
    "DON'T MODIFY ANYTHING IN THIS CELL THAT IS BELOW THIS LINE\n",
    "\"\"\"\n",
    "tf.reset_default_graph()\n",
    "tests.test_nn_image_inputs(neural_net_image_input)\n",
    "tests.test_nn_label_inputs(neural_net_label_input)\n",
    "tests.test_nn_keep_prob_inputs(neural_net_keep_prob_input)"
   ]
  },
  {
   "cell_type": "markdown",
   "metadata": {},
   "source": [
    "### Convolution and Max Pooling Layer\n",
    "Convolution layers have a lot of success with images. For this code cell, you should implement the function `conv2d_maxpool` to apply convolution then max pooling:\n",
    "* Create the weight and bias using `conv_ksize`, `conv_num_outputs` and the shape of `x_tensor`.\n",
    "* Apply a convolution to `x_tensor` using weight and `conv_strides`.\n",
    " * We recommend you use same padding, but you're welcome to use any padding.\n",
    "* Add bias\n",
    "* Add a nonlinear activation to the convolution.\n",
    "* Apply Max Pooling using `pool_ksize` and `pool_strides`.\n",
    " * We recommend you use same padding, but you're welcome to use any padding.\n",
    "\n",
    "**Note:** You **can't** use [TensorFlow Layers](https://www.tensorflow.org/api_docs/python/tf/layers) or [TensorFlow Layers (contrib)](https://www.tensorflow.org/api_guides/python/contrib.layers) for **this** layer, but you can still use TensorFlow's [Neural Network](https://www.tensorflow.org/api_docs/python/tf/nn) package. You may still use the shortcut option for all the **other** layers."
   ]
  },
  {
   "cell_type": "code",
   "execution_count": 193,
   "metadata": {
    "collapsed": false
   },
   "outputs": [
    {
     "name": "stdout",
     "output_type": "stream",
     "text": [
      "Tests Passed\n"
     ]
    }
   ],
   "source": [
    "def conv2d_maxpool(x_tensor, conv_num_outputs, conv_ksize, conv_strides, pool_ksize, pool_strides):\n",
    "    \"\"\"\n",
    "    Apply convolution then max pooling to x_tensor\n",
    "    :param x_tensor: TensorFlow Tensor\n",
    "    :param conv_num_outputs: Number of outputs for the convolutional layer\n",
    "    :param conv_ksize: kernal size 2-D Tuple for the convolutional layer\n",
    "    :param conv_strides: Stride 2-D Tuple for convolution\n",
    "    :param pool_ksize: kernal size 2-D Tuple for pool\n",
    "    :param pool_strides: Stride 2-D Tuple for pool\n",
    "    : return: A tensor that represents convolution and max pooling of x_tensor\n",
    "    \"\"\"\n",
    "    # TODO: Implement Function\n",
    "    x_tensor_shape = x_tensor.get_shape().as_list()\n",
    "\n",
    "    weight = tf.Variable(tf.truncated_normal([conv_ksize[0],conv_ksize[1],x_tensor_shape[3],conv_num_outputs], mean=0, stddev=0.1))\n",
    "    bias = tf.Variable(tf.truncated_normal([conv_num_outputs], mean=0, stddev=0.1))\n",
    "    \n",
    "    conv = tf.nn.conv2d(x_tensor, weight, strides=[1, conv_strides[0], conv_strides[1], 1], padding='SAME')\n",
    "    conv = tf.nn.bias_add(conv,bias)\n",
    "    conv = tf.nn.relu(conv)\n",
    "    \n",
    "    output = tf.nn.max_pool(conv, ksize=[1, pool_ksize[0], pool_ksize[1], 1], strides = [1, pool_strides[0], pool_strides[1], 1], padding='SAME')\n",
    "    \n",
    "    return output \n",
    "\n",
    "\n",
    "\"\"\"\n",
    "DON'T MODIFY ANYTHING IN THIS CELL THAT IS BELOW THIS LINE\n",
    "\"\"\"\n",
    "tests.test_con_pool(conv2d_maxpool)"
   ]
  },
  {
   "cell_type": "markdown",
   "metadata": {},
   "source": [
    "### Flatten Layer\n",
    "Implement the `flatten` function to change the dimension of `x_tensor` from a 4-D tensor to a 2-D tensor.  The output should be the shape (*Batch Size*, *Flattened Image Size*). Shortcut option: you can use classes from the [TensorFlow Layers](https://www.tensorflow.org/api_docs/python/tf/layers) or [TensorFlow Layers (contrib)](https://www.tensorflow.org/api_guides/python/contrib.layers) packages for this layer. For more of a challenge, only use other TensorFlow packages."
   ]
  },
  {
   "cell_type": "code",
   "execution_count": 194,
   "metadata": {
    "collapsed": false
   },
   "outputs": [
    {
     "name": "stdout",
     "output_type": "stream",
     "text": [
      "Tests Passed\n"
     ]
    }
   ],
   "source": [
    "def flatten(x_tensor):\n",
    "    \"\"\"\n",
    "    Flatten x_tensor to (Batch Size, Flattened Image Size)\n",
    "    : x_tensor: A tensor of size (Batch Size, ...), where ... are the image dimensions.\n",
    "    : return: A tensor of size (Batch Size, Flattened Image Size).\n",
    "    \"\"\"\n",
    "    # TODO: Implement Function\n",
    "    return tf.reshape(x_tensor, [-1, x_tensor.get_shape().as_list()[1]*x_tensor.get_shape().as_list()[2]*x_tensor.get_shape().as_list()[3]])\n",
    "\n",
    "\n",
    "\"\"\"\n",
    "DON'T MODIFY ANYTHING IN THIS CELL THAT IS BELOW THIS LINE\n",
    "\"\"\"\n",
    "tests.test_flatten(flatten)"
   ]
  },
  {
   "cell_type": "markdown",
   "metadata": {},
   "source": [
    "### Fully-Connected Layer\n",
    "Implement the `fully_conn` function to apply a fully connected layer to `x_tensor` with the shape (*Batch Size*, *num_outputs*). Shortcut option: you can use classes from the [TensorFlow Layers](https://www.tensorflow.org/api_docs/python/tf/layers) or [TensorFlow Layers (contrib)](https://www.tensorflow.org/api_guides/python/contrib.layers) packages for this layer. For more of a challenge, only use other TensorFlow packages."
   ]
  },
  {
   "cell_type": "code",
   "execution_count": 195,
   "metadata": {
    "collapsed": false
   },
   "outputs": [
    {
     "name": "stdout",
     "output_type": "stream",
     "text": [
      "Tests Passed\n"
     ]
    }
   ],
   "source": [
    "def fully_conn(x_tensor, num_outputs):\n",
    "    \"\"\"\n",
    "    Apply a fully connected layer to x_tensor using weight and bias\n",
    "    : x_tensor: A 2-D tensor where the first dimension is batch size.\n",
    "    : num_outputs: The number of output that the new tensor should be.\n",
    "    : return: A 2-D tensor where the second dimension is num_outputs.\n",
    "    \"\"\"\n",
    "    weights_full = tf.Variable(tf.truncated_normal([x_tensor.get_shape().as_list()[1],num_outputs], mean=0, stddev=0.1))\n",
    "    bias_full = tf.Variable(tf.truncated_normal([num_outputs], mean=0, stddev=0.1))\n",
    "    full_layer = tf.add(tf.matmul(x_tensor,weights_full),bias_full)\n",
    "    full_layer = tf.nn.relu(full_layer)\n",
    "\n",
    "    # TODO: Implement Function\n",
    "    return full_layer\n",
    "\n",
    "\n",
    "\"\"\"\n",
    "DON'T MODIFY ANYTHING IN THIS CELL THAT IS BELOW THIS LINE\n",
    "\"\"\"\n",
    "tests.test_fully_conn(fully_conn)"
   ]
  },
  {
   "cell_type": "markdown",
   "metadata": {},
   "source": [
    "### Output Layer\n",
    "Implement the `output` function to apply a fully connected layer to `x_tensor` with the shape (*Batch Size*, *num_outputs*). Shortcut option: you can use classes from the [TensorFlow Layers](https://www.tensorflow.org/api_docs/python/tf/layers) or [TensorFlow Layers (contrib)](https://www.tensorflow.org/api_guides/python/contrib.layers) packages for this layer. For more of a challenge, only use other TensorFlow packages.\n",
    "\n",
    "**Note:** Activation, softmax, or cross entropy should **not** be applied to this."
   ]
  },
  {
   "cell_type": "code",
   "execution_count": 196,
   "metadata": {
    "collapsed": false
   },
   "outputs": [
    {
     "name": "stdout",
     "output_type": "stream",
     "text": [
      "Tests Passed\n"
     ]
    }
   ],
   "source": [
    "def output(x_tensor, num_outputs):\n",
    "    \"\"\"\n",
    "    Apply a output layer to x_tensor using weight and bias\n",
    "    : x_tensor: A 2-D tensor where the first dimension is batch size.\n",
    "    : num_outputs: The number of output that the new tensor should be.\n",
    "    : return: A 2-D tensor where the second dimension is num_outputs.\n",
    "    \"\"\"\n",
    "    weights_output = tf.Variable(tf.truncated_normal([x_tensor.get_shape().as_list()[1],num_outputs], mean=0, stddev=0.1))\n",
    "    bias_output = tf.Variable(tf.truncated_normal([num_outputs], mean=0, stddev=0.1))\n",
    "    output = tf.add(tf.matmul(x_tensor,weights_output),bias_output)\n",
    "\n",
    "\n",
    "    return output\n",
    "\n",
    "\n",
    "\"\"\"\n",
    "DON'T MODIFY ANYTHING IN THIS CELL THAT IS BELOW THIS LINE\n",
    "\"\"\"\n",
    "tests.test_output(output)"
   ]
  },
  {
   "cell_type": "markdown",
   "metadata": {},
   "source": [
    "### Create Convolutional Model\n",
    "Implement the function `conv_net` to create a convolutional neural network model. The function takes in a batch of images, `x`, and outputs logits.  Use the layers you created above to create this model:\n",
    "\n",
    "* Apply 1, 2, or 3 Convolution and Max Pool layers\n",
    "* Apply a Flatten Layer\n",
    "* Apply 1, 2, or 3 Fully Connected Layers\n",
    "* Apply an Output Layer\n",
    "* Return the output\n",
    "* Apply [TensorFlow's Dropout](https://www.tensorflow.org/api_docs/python/tf/nn/dropout) to one or more layers in the model using `keep_prob`. "
   ]
  },
  {
   "cell_type": "code",
   "execution_count": 198,
   "metadata": {
    "collapsed": false
   },
   "outputs": [
    {
     "name": "stdout",
     "output_type": "stream",
     "text": [
      "Neural Network Built!\n"
     ]
    }
   ],
   "source": [
    "def conv_net(x, keep_prob):\n",
    "    \"\"\"\n",
    "    Create a convolutional neural network model\n",
    "    : x: Placeholder tensor that holds image data.\n",
    "    : keep_prob: Placeholder tensor that hold dropout keep probability.\n",
    "    : return: Tensor that represents logits\n",
    "    \"\"\"\n",
    "    # TODO: Apply 1, 2, or 3 Convolution and Max Pool layers\n",
    "    #    Play around with different number of outputs, kernel size and stride\n",
    "    # Function Definition from Above:\n",
    "    #    conv2d_maxpool(x_tensor, conv_num_outputs, conv_ksize, conv_strides, pool_ksize, pool_strides)\n",
    "    \n",
    "    test_num_outputs = 10\n",
    "    test_con_k = (4, 4)\n",
    "    test_con_s = (1, 1)\n",
    "    test_pool_k = (2, 2)\n",
    "    test_pool_s = (2, 2)\n",
    "\n",
    "    layer_1 = conv2d_maxpool(x, 10, test_con_k, test_con_s, test_pool_k, test_pool_s)\n",
    "    layer_2 = conv2d_maxpool(layer_1, 32, test_con_k, test_con_s, test_pool_k, test_pool_s)\n",
    "    layer_3 = conv2d_maxpool(layer_2, 64, test_con_k, test_con_s, test_pool_k, test_pool_s)\n",
    "\n",
    "\n",
    "\n",
    "\n",
    "    # TODO: Apply a Flatten Layer\n",
    "    # Function Definition from Above:\n",
    "    #   flatten(x_tensor)\n",
    "    flat_layer = flatten(layer_3)\n",
    "\n",
    "    # TODO: Apply 1, 2, or 3 Fully Connected Layers\n",
    "    #    Play around with different number of outputs\n",
    "    # Function Definition from Above:\n",
    "    #   fully_conn(x_tensor, num_outputs)\n",
    "    fully_connected = output(flat_layer, num_outputs=10)\n",
    "    fully_connected = tf.nn.dropout(fully_connected, keep_prob)\n",
    "    \n",
    "    # TODO: Apply an Output Layer\n",
    "    #    Set this to the number of classes\n",
    "    # Function Definition from Above:\n",
    "    #   output(x_tensor, num_outputs)\n",
    "    output_layer = output(fully_connected, num_outputs=10)\n",
    "    \n",
    "    \n",
    "    # TODO: return output\n",
    "    return output_layer\n",
    "\n",
    "\n",
    "\"\"\"\n",
    "DON'T MODIFY ANYTHING IN THIS CELL THAT IS BELOW THIS LINE\n",
    "\"\"\"\n",
    "\n",
    "##############################\n",
    "## Build the Neural Network ##\n",
    "##############################\n",
    "\n",
    "# Remove previous weights, bias, inputs, etc..\n",
    "tf.reset_default_graph()\n",
    "\n",
    "# Inputs\n",
    "x = neural_net_image_input((32, 32, 3))\n",
    "y = neural_net_label_input(10)\n",
    "keep_prob = neural_net_keep_prob_input()\n",
    "\n",
    "# Model\n",
    "logits = conv_net(x, keep_prob)\n",
    "\n",
    "# Name logits Tensor, so that is can be loaded from disk after training\n",
    "logits = tf.identity(logits, name='logits')\n",
    "\n",
    "# Loss and Optimizer\n",
    "cost = tf.reduce_mean(tf.nn.softmax_cross_entropy_with_logits(logits=logits, labels=y))\n",
    "optimizer = tf.train.AdamOptimizer().minimize(cost)\n",
    "\n",
    "# Accuracy\n",
    "correct_pred = tf.equal(tf.argmax(logits, 1), tf.argmax(y, 1))\n",
    "accuracy = tf.reduce_mean(tf.cast(correct_pred, tf.float32), name='accuracy')\n",
    "\n",
    "tests.test_conv_net(conv_net)"
   ]
  },
  {
   "cell_type": "markdown",
   "metadata": {},
   "source": [
    "## Train the Neural Network\n",
    "### Single Optimization\n",
    "Implement the function `train_neural_network` to do a single optimization.  The optimization should use `optimizer` to optimize in `session` with a `feed_dict` of the following:\n",
    "* `x` for image input\n",
    "* `y` for labels\n",
    "* `keep_prob` for keep probability for dropout\n",
    "\n",
    "This function will be called for each batch, so `tf.global_variables_initializer()` has already been called.\n",
    "\n",
    "Note: Nothing needs to be returned. This function is only optimizing the neural network."
   ]
  },
  {
   "cell_type": "code",
   "execution_count": 199,
   "metadata": {
    "collapsed": false
   },
   "outputs": [
    {
     "name": "stdout",
     "output_type": "stream",
     "text": [
      "Tests Passed\n"
     ]
    }
   ],
   "source": [
    "def train_neural_network(session, optimizer, keep_probability, feature_batch, label_batch):\n",
    "    \"\"\"\n",
    "    Optimize the session on a batch of images and labels\n",
    "    : session: Current TensorFlow session\n",
    "    : optimizer: TensorFlow optimizer function\n",
    "    : keep_probability: keep probability\n",
    "    : feature_batch: Batch of Numpy image data\n",
    "    : label_batch: Batch of Numpy label data\n",
    "    \"\"\"\n",
    "    session.run(optimizer, feed_dict={x: feature_batch, y: label_batch, keep_prob: keep_probability})\n",
    "    \n",
    "    #pass\n",
    "\n",
    "\n",
    "\"\"\"\n",
    "DON'T MODIFY ANYTHING IN THIS CELL THAT IS BELOW THIS LINE\n",
    "\"\"\"\n",
    "tests.test_train_nn(train_neural_network)"
   ]
  },
  {
   "cell_type": "markdown",
   "metadata": {},
   "source": [
    "### Show Stats\n",
    "Implement the function `print_stats` to print loss and validation accuracy.  Use the global variables `valid_features` and `valid_labels` to calculate validation accuracy.  Use a keep probability of `1.0` to calculate the loss and validation accuracy."
   ]
  },
  {
   "cell_type": "code",
   "execution_count": 207,
   "metadata": {
    "collapsed": false
   },
   "outputs": [],
   "source": [
    "def print_stats(session, feature_batch, label_batch, cost, accuracy):\n",
    "    \"\"\"\n",
    "    Print information about loss and validation accuracy\n",
    "    : session: Current TensorFlow session\n",
    "    : feature_batch: Batch of Numpy image data\n",
    "    : label_batch: Batch of Numpy label data\n",
    "    : cost: TensorFlow cost function\n",
    "    : accuracy: TensorFlow accuracy function\n",
    "    \"\"\"\n",
    "    loss = session.run(cost, feed_dict={x: feature_batch, y: label_batch, keep_prob: 1.})\n",
    "    valid_acc = session.run(accuracy, feed_dict={x: valid_features, y: valid_labels, keep_prob: 1.})\n",
    "       \n",
    "    print('Loss {:>10.4f} Validation Accuracy {:>.6f}'.format(loss, valid_acc))\n",
    "\n",
    "    #pass"
   ]
  },
  {
   "cell_type": "markdown",
   "metadata": {},
   "source": [
    "### Hyperparameters\n",
    "Tune the following parameters:\n",
    "* Set `epochs` to the number of iterations until the network stops learning or start overfitting\n",
    "* Set `batch_size` to the highest number that your machine has memory for.  Most people set them to common sizes of memory:\n",
    " * 64\n",
    " * 128\n",
    " * 256\n",
    " * ...\n",
    "* Set `keep_probability` to the probability of keeping a node using dropout"
   ]
  },
  {
   "cell_type": "code",
   "execution_count": 210,
   "metadata": {
    "collapsed": true
   },
   "outputs": [],
   "source": [
    "# TODO: Tune Parameters\n",
    "epochs = 50\n",
    "batch_size = 128\n",
    "keep_probability = 0.75"
   ]
  },
  {
   "cell_type": "markdown",
   "metadata": {},
   "source": [
    "### Train on a Single CIFAR-10 Batch\n",
    "Instead of training the neural network on all the CIFAR-10 batches of data, let's use a single batch. This should save time while you iterate on the model to get a better accuracy.  Once the final validation accuracy is 50% or greater, run the model on all the data in the next section."
   ]
  },
  {
   "cell_type": "code",
   "execution_count": 209,
   "metadata": {
    "collapsed": false
   },
   "outputs": [
    {
     "name": "stdout",
     "output_type": "stream",
     "text": [
      "Checking the Training on a Single Batch...\n",
      "Epoch  1, CIFAR-10 Batch 1:  Loss     2.0858 Validation Accuracy 0.307200\n",
      "Epoch  2, CIFAR-10 Batch 1:  Loss     1.9431 Validation Accuracy 0.393600\n",
      "Epoch  3, CIFAR-10 Batch 1:  Loss     1.8337 Validation Accuracy 0.425600\n",
      "Epoch  4, CIFAR-10 Batch 1:  Loss     1.7550 Validation Accuracy 0.451000\n",
      "Epoch  5, CIFAR-10 Batch 1:  Loss     1.6366 Validation Accuracy 0.472600\n",
      "Epoch  6, CIFAR-10 Batch 1:  Loss     1.5740 Validation Accuracy 0.477400\n",
      "Epoch  7, CIFAR-10 Batch 1:  Loss     1.4703 Validation Accuracy 0.494600\n",
      "Epoch  8, CIFAR-10 Batch 1:  Loss     1.4254 Validation Accuracy 0.502400\n",
      "Epoch  9, CIFAR-10 Batch 1:  Loss     1.3013 Validation Accuracy 0.503000\n",
      "Epoch 10, CIFAR-10 Batch 1:  Loss     1.2119 Validation Accuracy 0.514400\n",
      "Epoch 11, CIFAR-10 Batch 1:  Loss     1.1367 Validation Accuracy 0.512400\n",
      "Epoch 12, CIFAR-10 Batch 1:  Loss     1.0705 Validation Accuracy 0.522200\n",
      "Epoch 13, CIFAR-10 Batch 1:  Loss     0.9811 Validation Accuracy 0.525200\n",
      "Epoch 14, CIFAR-10 Batch 1:  Loss     0.9619 Validation Accuracy 0.538000\n",
      "Epoch 15, CIFAR-10 Batch 1:  Loss     0.9718 Validation Accuracy 0.546800\n",
      "Epoch 16, CIFAR-10 Batch 1:  Loss     0.8725 Validation Accuracy 0.543400\n",
      "Epoch 17, CIFAR-10 Batch 1:  Loss     0.8113 Validation Accuracy 0.548600\n",
      "Epoch 18, CIFAR-10 Batch 1:  Loss     0.7321 Validation Accuracy 0.547800\n",
      "Epoch 19, CIFAR-10 Batch 1:  Loss     0.7070 Validation Accuracy 0.556600\n",
      "Epoch 20, CIFAR-10 Batch 1:  Loss     0.7296 Validation Accuracy 0.545400\n"
     ]
    }
   ],
   "source": [
    "\"\"\"\n",
    "DON'T MODIFY ANYTHING IN THIS CELL\n",
    "\"\"\"\n",
    "print('Checking the Training on a Single Batch...')\n",
    "with tf.Session() as sess:\n",
    "    # Initializing the variables\n",
    "    sess.run(tf.global_variables_initializer())\n",
    "    \n",
    "    # Training cycle\n",
    "    for epoch in range(epochs):\n",
    "        batch_i = 1\n",
    "        for batch_features, batch_labels in helper.load_preprocess_training_batch(batch_i, batch_size):\n",
    "            train_neural_network(sess, optimizer, keep_probability, batch_features, batch_labels)\n",
    "        print('Epoch {:>2}, CIFAR-10 Batch {}:  '.format(epoch + 1, batch_i), end='')\n",
    "        print_stats(sess, batch_features, batch_labels, cost, accuracy)"
   ]
  },
  {
   "cell_type": "markdown",
   "metadata": {},
   "source": [
    "### Fully Train the Model\n",
    "Now that you got a good accuracy with a single CIFAR-10 batch, try it with all five batches."
   ]
  },
  {
   "cell_type": "code",
   "execution_count": 211,
   "metadata": {
    "collapsed": false
   },
   "outputs": [
    {
     "name": "stdout",
     "output_type": "stream",
     "text": [
      "Training...\n",
      "Epoch  1, CIFAR-10 Batch 1:  Loss     2.1134 Validation Accuracy 0.305600\n",
      "Epoch  1, CIFAR-10 Batch 2:  Loss     1.8398 Validation Accuracy 0.369800\n",
      "Epoch  1, CIFAR-10 Batch 3:  Loss     1.6066 Validation Accuracy 0.410400\n",
      "Epoch  1, CIFAR-10 Batch 4:  Loss     1.5487 Validation Accuracy 0.419600\n",
      "Epoch  1, CIFAR-10 Batch 5:  Loss     1.5813 Validation Accuracy 0.455000\n",
      "Epoch  2, CIFAR-10 Batch 1:  Loss     1.7366 Validation Accuracy 0.470800\n",
      "Epoch  2, CIFAR-10 Batch 2:  Loss     1.4468 Validation Accuracy 0.483800\n",
      "Epoch  2, CIFAR-10 Batch 3:  Loss     1.1883 Validation Accuracy 0.490000\n",
      "Epoch  2, CIFAR-10 Batch 4:  Loss     1.3674 Validation Accuracy 0.492200\n",
      "Epoch  2, CIFAR-10 Batch 5:  Loss     1.3944 Validation Accuracy 0.523600\n",
      "Epoch  3, CIFAR-10 Batch 1:  Loss     1.4914 Validation Accuracy 0.522000\n",
      "Epoch  3, CIFAR-10 Batch 2:  Loss     1.3165 Validation Accuracy 0.542400\n",
      "Epoch  3, CIFAR-10 Batch 3:  Loss     1.0762 Validation Accuracy 0.531200\n",
      "Epoch  3, CIFAR-10 Batch 4:  Loss     1.2594 Validation Accuracy 0.543000\n",
      "Epoch  3, CIFAR-10 Batch 5:  Loss     1.2793 Validation Accuracy 0.559600\n",
      "Epoch  4, CIFAR-10 Batch 1:  Loss     1.3489 Validation Accuracy 0.552600\n",
      "Epoch  4, CIFAR-10 Batch 2:  Loss     1.1235 Validation Accuracy 0.574200\n",
      "Epoch  4, CIFAR-10 Batch 3:  Loss     0.9844 Validation Accuracy 0.559800\n",
      "Epoch  4, CIFAR-10 Batch 4:  Loss     1.1838 Validation Accuracy 0.573400\n",
      "Epoch  4, CIFAR-10 Batch 5:  Loss     1.1850 Validation Accuracy 0.571800\n",
      "Epoch  5, CIFAR-10 Batch 1:  Loss     1.2740 Validation Accuracy 0.557600\n",
      "Epoch  5, CIFAR-10 Batch 2:  Loss     1.0281 Validation Accuracy 0.590400\n",
      "Epoch  5, CIFAR-10 Batch 3:  Loss     0.8763 Validation Accuracy 0.588000\n",
      "Epoch  5, CIFAR-10 Batch 4:  Loss     1.0883 Validation Accuracy 0.598600\n",
      "Epoch  5, CIFAR-10 Batch 5:  Loss     1.0412 Validation Accuracy 0.598200\n",
      "Epoch  6, CIFAR-10 Batch 1:  Loss     1.1566 Validation Accuracy 0.581000\n",
      "Epoch  6, CIFAR-10 Batch 2:  Loss     0.9690 Validation Accuracy 0.611400\n",
      "Epoch  6, CIFAR-10 Batch 3:  Loss     0.8016 Validation Accuracy 0.597800\n",
      "Epoch  6, CIFAR-10 Batch 4:  Loss     1.0311 Validation Accuracy 0.612600\n",
      "Epoch  6, CIFAR-10 Batch 5:  Loss     0.9600 Validation Accuracy 0.608200\n",
      "Epoch  7, CIFAR-10 Batch 1:  Loss     1.1444 Validation Accuracy 0.608600\n",
      "Epoch  7, CIFAR-10 Batch 2:  Loss     0.9237 Validation Accuracy 0.622000\n",
      "Epoch  7, CIFAR-10 Batch 3:  Loss     0.7462 Validation Accuracy 0.604200\n",
      "Epoch  7, CIFAR-10 Batch 4:  Loss     0.9747 Validation Accuracy 0.615200\n",
      "Epoch  7, CIFAR-10 Batch 5:  Loss     0.9213 Validation Accuracy 0.611400\n",
      "Epoch  8, CIFAR-10 Batch 1:  Loss     1.0499 Validation Accuracy 0.627800\n",
      "Epoch  8, CIFAR-10 Batch 2:  Loss     0.9141 Validation Accuracy 0.611800\n",
      "Epoch  8, CIFAR-10 Batch 3:  Loss     0.6702 Validation Accuracy 0.616000\n",
      "Epoch  8, CIFAR-10 Batch 4:  Loss     0.9229 Validation Accuracy 0.631800\n",
      "Epoch  8, CIFAR-10 Batch 5:  Loss     0.8393 Validation Accuracy 0.626400\n",
      "Epoch  9, CIFAR-10 Batch 1:  Loss     0.9755 Validation Accuracy 0.622600\n",
      "Epoch  9, CIFAR-10 Batch 2:  Loss     0.8198 Validation Accuracy 0.618400\n",
      "Epoch  9, CIFAR-10 Batch 3:  Loss     0.5727 Validation Accuracy 0.638000\n",
      "Epoch  9, CIFAR-10 Batch 4:  Loss     0.8512 Validation Accuracy 0.643400\n",
      "Epoch  9, CIFAR-10 Batch 5:  Loss     0.7441 Validation Accuracy 0.634800\n",
      "Epoch 10, CIFAR-10 Batch 1:  Loss     0.9146 Validation Accuracy 0.642600\n",
      "Epoch 10, CIFAR-10 Batch 2:  Loss     0.7834 Validation Accuracy 0.630800\n",
      "Epoch 10, CIFAR-10 Batch 3:  Loss     0.5524 Validation Accuracy 0.639600\n",
      "Epoch 10, CIFAR-10 Batch 4:  Loss     0.7787 Validation Accuracy 0.641800\n",
      "Epoch 10, CIFAR-10 Batch 5:  Loss     0.6385 Validation Accuracy 0.645000\n",
      "Epoch 11, CIFAR-10 Batch 1:  Loss     0.8461 Validation Accuracy 0.639800\n",
      "Epoch 11, CIFAR-10 Batch 2:  Loss     0.6843 Validation Accuracy 0.637800\n",
      "Epoch 11, CIFAR-10 Batch 3:  Loss     0.4782 Validation Accuracy 0.648400\n",
      "Epoch 11, CIFAR-10 Batch 4:  Loss     0.7169 Validation Accuracy 0.655000\n",
      "Epoch 11, CIFAR-10 Batch 5:  Loss     0.6318 Validation Accuracy 0.645400\n",
      "Epoch 12, CIFAR-10 Batch 1:  Loss     0.7746 Validation Accuracy 0.650400\n",
      "Epoch 12, CIFAR-10 Batch 2:  Loss     0.7336 Validation Accuracy 0.647600\n",
      "Epoch 12, CIFAR-10 Batch 3:  Loss     0.4358 Validation Accuracy 0.651000\n",
      "Epoch 12, CIFAR-10 Batch 4:  Loss     0.6257 Validation Accuracy 0.660000\n",
      "Epoch 12, CIFAR-10 Batch 5:  Loss     0.5766 Validation Accuracy 0.650600\n",
      "Epoch 13, CIFAR-10 Batch 1:  Loss     0.7160 Validation Accuracy 0.660600\n",
      "Epoch 13, CIFAR-10 Batch 2:  Loss     0.6500 Validation Accuracy 0.647200\n",
      "Epoch 13, CIFAR-10 Batch 3:  Loss     0.3935 Validation Accuracy 0.663800\n",
      "Epoch 13, CIFAR-10 Batch 4:  Loss     0.5932 Validation Accuracy 0.659800\n",
      "Epoch 13, CIFAR-10 Batch 5:  Loss     0.5262 Validation Accuracy 0.656200\n",
      "Epoch 14, CIFAR-10 Batch 1:  Loss     0.6718 Validation Accuracy 0.668800\n",
      "Epoch 14, CIFAR-10 Batch 2:  Loss     0.6755 Validation Accuracy 0.658600\n",
      "Epoch 14, CIFAR-10 Batch 3:  Loss     0.3743 Validation Accuracy 0.657200\n",
      "Epoch 14, CIFAR-10 Batch 4:  Loss     0.5452 Validation Accuracy 0.661600\n",
      "Epoch 14, CIFAR-10 Batch 5:  Loss     0.4895 Validation Accuracy 0.664800\n",
      "Epoch 15, CIFAR-10 Batch 1:  Loss     0.6528 Validation Accuracy 0.664200\n",
      "Epoch 15, CIFAR-10 Batch 2:  Loss     0.5661 Validation Accuracy 0.668800\n",
      "Epoch 15, CIFAR-10 Batch 3:  Loss     0.3473 Validation Accuracy 0.662200\n",
      "Epoch 15, CIFAR-10 Batch 4:  Loss     0.4931 Validation Accuracy 0.662200\n",
      "Epoch 15, CIFAR-10 Batch 5:  Loss     0.4686 Validation Accuracy 0.661200\n",
      "Epoch 16, CIFAR-10 Batch 1:  Loss     0.5600 Validation Accuracy 0.675600\n",
      "Epoch 16, CIFAR-10 Batch 2:  Loss     0.5617 Validation Accuracy 0.669600\n",
      "Epoch 16, CIFAR-10 Batch 3:  Loss     0.3507 Validation Accuracy 0.666400\n",
      "Epoch 16, CIFAR-10 Batch 4:  Loss     0.4600 Validation Accuracy 0.666800\n",
      "Epoch 16, CIFAR-10 Batch 5:  Loss     0.4290 Validation Accuracy 0.662600\n",
      "Epoch 17, CIFAR-10 Batch 1:  Loss     0.5019 Validation Accuracy 0.671600\n",
      "Epoch 17, CIFAR-10 Batch 2:  Loss     0.5242 Validation Accuracy 0.679600\n",
      "Epoch 17, CIFAR-10 Batch 3:  Loss     0.3397 Validation Accuracy 0.671800\n",
      "Epoch 17, CIFAR-10 Batch 4:  Loss     0.4367 Validation Accuracy 0.676800\n",
      "Epoch 17, CIFAR-10 Batch 5:  Loss     0.3703 Validation Accuracy 0.677800\n",
      "Epoch 18, CIFAR-10 Batch 1:  Loss     0.5090 Validation Accuracy 0.677400\n",
      "Epoch 18, CIFAR-10 Batch 2:  Loss     0.5442 Validation Accuracy 0.675000\n",
      "Epoch 18, CIFAR-10 Batch 3:  Loss     0.3149 Validation Accuracy 0.664000\n",
      "Epoch 18, CIFAR-10 Batch 4:  Loss     0.4089 Validation Accuracy 0.674800\n",
      "Epoch 18, CIFAR-10 Batch 5:  Loss     0.4026 Validation Accuracy 0.672000\n",
      "Epoch 19, CIFAR-10 Batch 1:  Loss     0.4388 Validation Accuracy 0.682000\n",
      "Epoch 19, CIFAR-10 Batch 2:  Loss     0.4847 Validation Accuracy 0.674000\n",
      "Epoch 19, CIFAR-10 Batch 3:  Loss     0.2880 Validation Accuracy 0.678200\n",
      "Epoch 19, CIFAR-10 Batch 4:  Loss     0.3723 Validation Accuracy 0.684400\n",
      "Epoch 19, CIFAR-10 Batch 5:  Loss     0.3875 Validation Accuracy 0.671000\n",
      "Epoch 20, CIFAR-10 Batch 1:  Loss     0.4378 Validation Accuracy 0.678200\n",
      "Epoch 20, CIFAR-10 Batch 2:  Loss     0.4087 Validation Accuracy 0.677600\n",
      "Epoch 20, CIFAR-10 Batch 3:  Loss     0.3134 Validation Accuracy 0.676000\n",
      "Epoch 20, CIFAR-10 Batch 4:  Loss     0.3876 Validation Accuracy 0.676800\n",
      "Epoch 20, CIFAR-10 Batch 5:  Loss     0.3362 Validation Accuracy 0.675000\n",
      "Epoch 21, CIFAR-10 Batch 1:  Loss     0.3850 Validation Accuracy 0.672200\n",
      "Epoch 21, CIFAR-10 Batch 2:  Loss     0.4296 Validation Accuracy 0.673800\n",
      "Epoch 21, CIFAR-10 Batch 3:  Loss     0.3004 Validation Accuracy 0.677200\n",
      "Epoch 21, CIFAR-10 Batch 4:  Loss     0.4473 Validation Accuracy 0.663800\n",
      "Epoch 21, CIFAR-10 Batch 5:  Loss     0.3313 Validation Accuracy 0.668000\n",
      "Epoch 22, CIFAR-10 Batch 1:  Loss     0.3313 Validation Accuracy 0.683000\n",
      "Epoch 22, CIFAR-10 Batch 2:  Loss     0.3649 Validation Accuracy 0.673400\n",
      "Epoch 22, CIFAR-10 Batch 3:  Loss     0.2765 Validation Accuracy 0.680400\n",
      "Epoch 22, CIFAR-10 Batch 4:  Loss     0.4059 Validation Accuracy 0.660200\n",
      "Epoch 22, CIFAR-10 Batch 5:  Loss     0.3069 Validation Accuracy 0.684000\n",
      "Epoch 23, CIFAR-10 Batch 1:  Loss     0.3346 Validation Accuracy 0.693400\n",
      "Epoch 23, CIFAR-10 Batch 2:  Loss     0.3380 Validation Accuracy 0.682800\n",
      "Epoch 23, CIFAR-10 Batch 3:  Loss     0.2715 Validation Accuracy 0.681000\n",
      "Epoch 23, CIFAR-10 Batch 4:  Loss     0.3284 Validation Accuracy 0.674000\n",
      "Epoch 23, CIFAR-10 Batch 5:  Loss     0.2749 Validation Accuracy 0.687200\n",
      "Epoch 24, CIFAR-10 Batch 1:  Loss     0.3352 Validation Accuracy 0.681800\n",
      "Epoch 24, CIFAR-10 Batch 2:  Loss     0.3215 Validation Accuracy 0.676600\n",
      "Epoch 24, CIFAR-10 Batch 3:  Loss     0.2901 Validation Accuracy 0.671800\n",
      "Epoch 24, CIFAR-10 Batch 4:  Loss     0.3265 Validation Accuracy 0.666400\n",
      "Epoch 24, CIFAR-10 Batch 5:  Loss     0.2715 Validation Accuracy 0.676400\n",
      "Epoch 25, CIFAR-10 Batch 1:  Loss     0.3014 Validation Accuracy 0.690200\n",
      "Epoch 25, CIFAR-10 Batch 2:  Loss     0.3090 Validation Accuracy 0.674800\n",
      "Epoch 25, CIFAR-10 Batch 3:  Loss     0.2634 Validation Accuracy 0.682000\n",
      "Epoch 25, CIFAR-10 Batch 4:  Loss     0.3028 Validation Accuracy 0.671200\n",
      "Epoch 25, CIFAR-10 Batch 5:  Loss     0.2782 Validation Accuracy 0.666400\n",
      "Epoch 26, CIFAR-10 Batch 1:  Loss     0.3199 Validation Accuracy 0.692800\n",
      "Epoch 26, CIFAR-10 Batch 2:  Loss     0.2817 Validation Accuracy 0.674600\n",
      "Epoch 26, CIFAR-10 Batch 3:  Loss     0.2333 Validation Accuracy 0.688000\n",
      "Epoch 26, CIFAR-10 Batch 4:  Loss     0.2808 Validation Accuracy 0.673600\n",
      "Epoch 26, CIFAR-10 Batch 5:  Loss     0.2588 Validation Accuracy 0.672400\n",
      "Epoch 27, CIFAR-10 Batch 1:  Loss     0.3063 Validation Accuracy 0.687200\n",
      "Epoch 27, CIFAR-10 Batch 2:  Loss     0.2879 Validation Accuracy 0.680400\n",
      "Epoch 27, CIFAR-10 Batch 3:  Loss     0.2480 Validation Accuracy 0.676000\n",
      "Epoch 27, CIFAR-10 Batch 4:  Loss     0.2782 Validation Accuracy 0.671000\n",
      "Epoch 27, CIFAR-10 Batch 5:  Loss     0.2294 Validation Accuracy 0.682200\n",
      "Epoch 28, CIFAR-10 Batch 1:  Loss     0.2793 Validation Accuracy 0.689600\n",
      "Epoch 28, CIFAR-10 Batch 2:  Loss     0.2892 Validation Accuracy 0.679800\n",
      "Epoch 28, CIFAR-10 Batch 3:  Loss     0.2235 Validation Accuracy 0.679600\n",
      "Epoch 28, CIFAR-10 Batch 4:  Loss     0.2794 Validation Accuracy 0.672200\n",
      "Epoch 28, CIFAR-10 Batch 5:  Loss     0.2474 Validation Accuracy 0.664000\n",
      "Epoch 29, CIFAR-10 Batch 1:  Loss     0.2891 Validation Accuracy 0.692000\n",
      "Epoch 29, CIFAR-10 Batch 2:  Loss     0.3153 Validation Accuracy 0.672000\n",
      "Epoch 29, CIFAR-10 Batch 3:  Loss     0.2078 Validation Accuracy 0.688800\n",
      "Epoch 29, CIFAR-10 Batch 4:  Loss     0.2512 Validation Accuracy 0.677800\n",
      "Epoch 29, CIFAR-10 Batch 5:  Loss     0.2132 Validation Accuracy 0.680400\n",
      "Epoch 30, CIFAR-10 Batch 1:  Loss     0.2576 Validation Accuracy 0.693600\n",
      "Epoch 30, CIFAR-10 Batch 2:  Loss     0.2584 Validation Accuracy 0.672200\n",
      "Epoch 30, CIFAR-10 Batch 3:  Loss     0.2129 Validation Accuracy 0.688000\n",
      "Epoch 30, CIFAR-10 Batch 4:  Loss     0.2318 Validation Accuracy 0.682400\n",
      "Epoch 30, CIFAR-10 Batch 5:  Loss     0.2300 Validation Accuracy 0.673800\n",
      "Epoch 31, CIFAR-10 Batch 1:  Loss     0.2481 Validation Accuracy 0.694200\n",
      "Epoch 31, CIFAR-10 Batch 2:  Loss     0.2967 Validation Accuracy 0.670600\n",
      "Epoch 31, CIFAR-10 Batch 3:  Loss     0.1833 Validation Accuracy 0.691400\n",
      "Epoch 31, CIFAR-10 Batch 4:  Loss     0.2059 Validation Accuracy 0.679000\n",
      "Epoch 31, CIFAR-10 Batch 5:  Loss     0.1893 Validation Accuracy 0.676400\n",
      "Epoch 32, CIFAR-10 Batch 1:  Loss     0.2631 Validation Accuracy 0.688400\n",
      "Epoch 32, CIFAR-10 Batch 2:  Loss     0.2674 Validation Accuracy 0.671600\n",
      "Epoch 32, CIFAR-10 Batch 3:  Loss     0.1895 Validation Accuracy 0.687600\n",
      "Epoch 32, CIFAR-10 Batch 4:  Loss     0.2631 Validation Accuracy 0.667600\n",
      "Epoch 32, CIFAR-10 Batch 5:  Loss     0.1891 Validation Accuracy 0.674400\n",
      "Epoch 33, CIFAR-10 Batch 1:  Loss     0.2434 Validation Accuracy 0.685600\n",
      "Epoch 33, CIFAR-10 Batch 2:  Loss     0.2459 Validation Accuracy 0.676400\n",
      "Epoch 33, CIFAR-10 Batch 3:  Loss     0.1916 Validation Accuracy 0.685600\n",
      "Epoch 33, CIFAR-10 Batch 4:  Loss     0.2258 Validation Accuracy 0.675400\n",
      "Epoch 33, CIFAR-10 Batch 5:  Loss     0.1789 Validation Accuracy 0.674600\n",
      "Epoch 34, CIFAR-10 Batch 1:  Loss     0.2370 Validation Accuracy 0.695000\n",
      "Epoch 34, CIFAR-10 Batch 2:  Loss     0.2044 Validation Accuracy 0.679600\n",
      "Epoch 34, CIFAR-10 Batch 3:  Loss     0.1659 Validation Accuracy 0.687400\n",
      "Epoch 34, CIFAR-10 Batch 4:  Loss     0.2024 Validation Accuracy 0.682600\n",
      "Epoch 34, CIFAR-10 Batch 5:  Loss     0.1738 Validation Accuracy 0.675000\n",
      "Epoch 35, CIFAR-10 Batch 1:  Loss     0.2397 Validation Accuracy 0.689200\n",
      "Epoch 35, CIFAR-10 Batch 2:  Loss     0.1788 Validation Accuracy 0.676400\n",
      "Epoch 35, CIFAR-10 Batch 3:  Loss     0.1713 Validation Accuracy 0.686400\n",
      "Epoch 35, CIFAR-10 Batch 4:  Loss     0.2148 Validation Accuracy 0.677000\n",
      "Epoch 35, CIFAR-10 Batch 5:  Loss     0.1699 Validation Accuracy 0.666200\n",
      "Epoch 36, CIFAR-10 Batch 1:  Loss     0.2104 Validation Accuracy 0.688200\n",
      "Epoch 36, CIFAR-10 Batch 2:  Loss     0.1994 Validation Accuracy 0.686200\n",
      "Epoch 36, CIFAR-10 Batch 3:  Loss     0.1595 Validation Accuracy 0.688200\n",
      "Epoch 36, CIFAR-10 Batch 4:  Loss     0.1789 Validation Accuracy 0.667000\n",
      "Epoch 36, CIFAR-10 Batch 5:  Loss     0.1620 Validation Accuracy 0.669000\n",
      "Epoch 37, CIFAR-10 Batch 1:  Loss     0.2154 Validation Accuracy 0.691000\n",
      "Epoch 37, CIFAR-10 Batch 2:  Loss     0.1890 Validation Accuracy 0.677600\n",
      "Epoch 37, CIFAR-10 Batch 3:  Loss     0.1606 Validation Accuracy 0.683400\n",
      "Epoch 37, CIFAR-10 Batch 4:  Loss     0.1877 Validation Accuracy 0.666400\n",
      "Epoch 37, CIFAR-10 Batch 5:  Loss     0.1710 Validation Accuracy 0.662600\n",
      "Epoch 38, CIFAR-10 Batch 1:  Loss     0.2150 Validation Accuracy 0.682000\n",
      "Epoch 38, CIFAR-10 Batch 2:  Loss     0.1845 Validation Accuracy 0.673400\n",
      "Epoch 38, CIFAR-10 Batch 3:  Loss     0.1573 Validation Accuracy 0.682600\n",
      "Epoch 38, CIFAR-10 Batch 4:  Loss     0.2299 Validation Accuracy 0.657000\n",
      "Epoch 38, CIFAR-10 Batch 5:  Loss     0.1605 Validation Accuracy 0.669200\n",
      "Epoch 39, CIFAR-10 Batch 1:  Loss     0.2118 Validation Accuracy 0.687000\n",
      "Epoch 39, CIFAR-10 Batch 2:  Loss     0.1939 Validation Accuracy 0.678000\n",
      "Epoch 39, CIFAR-10 Batch 3:  Loss     0.1467 Validation Accuracy 0.687000\n",
      "Epoch 39, CIFAR-10 Batch 4:  Loss     0.1872 Validation Accuracy 0.652000\n",
      "Epoch 39, CIFAR-10 Batch 5:  Loss     0.1573 Validation Accuracy 0.674000\n",
      "Epoch 40, CIFAR-10 Batch 1:  Loss     0.2354 Validation Accuracy 0.681000\n",
      "Epoch 40, CIFAR-10 Batch 2:  Loss     0.1890 Validation Accuracy 0.682200\n",
      "Epoch 40, CIFAR-10 Batch 3:  Loss     0.1577 Validation Accuracy 0.678200\n",
      "Epoch 40, CIFAR-10 Batch 4:  Loss     0.1760 Validation Accuracy 0.656400\n",
      "Epoch 40, CIFAR-10 Batch 5:  Loss     0.1622 Validation Accuracy 0.668600\n",
      "Epoch 41, CIFAR-10 Batch 1:  Loss     0.2016 Validation Accuracy 0.681600\n",
      "Epoch 41, CIFAR-10 Batch 2:  Loss     0.1762 Validation Accuracy 0.683000\n",
      "Epoch 41, CIFAR-10 Batch 3:  Loss     0.1549 Validation Accuracy 0.681800\n",
      "Epoch 41, CIFAR-10 Batch 4:  Loss     0.1493 Validation Accuracy 0.676600\n",
      "Epoch 41, CIFAR-10 Batch 5:  Loss     0.1502 Validation Accuracy 0.674400\n",
      "Epoch 42, CIFAR-10 Batch 1:  Loss     0.1924 Validation Accuracy 0.680600\n",
      "Epoch 42, CIFAR-10 Batch 2:  Loss     0.1752 Validation Accuracy 0.681600\n",
      "Epoch 42, CIFAR-10 Batch 3:  Loss     0.1361 Validation Accuracy 0.682000\n",
      "Epoch 42, CIFAR-10 Batch 4:  Loss     0.1549 Validation Accuracy 0.661800\n",
      "Epoch 42, CIFAR-10 Batch 5:  Loss     0.1517 Validation Accuracy 0.659000\n",
      "Epoch 43, CIFAR-10 Batch 1:  Loss     0.2143 Validation Accuracy 0.684600\n",
      "Epoch 43, CIFAR-10 Batch 2:  Loss     0.1873 Validation Accuracy 0.682200\n",
      "Epoch 43, CIFAR-10 Batch 3:  Loss     0.1407 Validation Accuracy 0.680400\n",
      "Epoch 43, CIFAR-10 Batch 4:  Loss     0.1378 Validation Accuracy 0.679000\n",
      "Epoch 43, CIFAR-10 Batch 5:  Loss     0.1106 Validation Accuracy 0.670800\n",
      "Epoch 44, CIFAR-10 Batch 1:  Loss     0.2100 Validation Accuracy 0.678400\n",
      "Epoch 44, CIFAR-10 Batch 2:  Loss     0.1689 Validation Accuracy 0.683000\n",
      "Epoch 44, CIFAR-10 Batch 3:  Loss     0.1434 Validation Accuracy 0.695800\n",
      "Epoch 44, CIFAR-10 Batch 4:  Loss     0.1232 Validation Accuracy 0.676200\n",
      "Epoch 44, CIFAR-10 Batch 5:  Loss     0.1306 Validation Accuracy 0.672800\n",
      "Epoch 45, CIFAR-10 Batch 1:  Loss     0.1982 Validation Accuracy 0.683200\n",
      "Epoch 45, CIFAR-10 Batch 2:  Loss     0.1289 Validation Accuracy 0.679800\n",
      "Epoch 45, CIFAR-10 Batch 3:  Loss     0.1327 Validation Accuracy 0.682200\n",
      "Epoch 45, CIFAR-10 Batch 4:  Loss     0.1319 Validation Accuracy 0.679200\n",
      "Epoch 45, CIFAR-10 Batch 5:  Loss     0.1402 Validation Accuracy 0.668200\n",
      "Epoch 46, CIFAR-10 Batch 1:  Loss     0.1835 Validation Accuracy 0.684200\n",
      "Epoch 46, CIFAR-10 Batch 2:  Loss     0.1544 Validation Accuracy 0.671200\n",
      "Epoch 46, CIFAR-10 Batch 3:  Loss     0.1285 Validation Accuracy 0.679000\n",
      "Epoch 46, CIFAR-10 Batch 4:  Loss     0.1576 Validation Accuracy 0.668000\n",
      "Epoch 46, CIFAR-10 Batch 5:  Loss     0.1077 Validation Accuracy 0.675600\n",
      "Epoch 47, CIFAR-10 Batch 1:  Loss     0.1676 Validation Accuracy 0.676800\n",
      "Epoch 47, CIFAR-10 Batch 2:  Loss     0.1619 Validation Accuracy 0.680800\n",
      "Epoch 47, CIFAR-10 Batch 3:  Loss     0.1242 Validation Accuracy 0.680400\n",
      "Epoch 47, CIFAR-10 Batch 4:  Loss     0.1271 Validation Accuracy 0.675800\n",
      "Epoch 47, CIFAR-10 Batch 5:  Loss     0.1091 Validation Accuracy 0.665600\n",
      "Epoch 48, CIFAR-10 Batch 1:  Loss     0.1647 Validation Accuracy 0.679400\n",
      "Epoch 48, CIFAR-10 Batch 2:  Loss     0.1543 Validation Accuracy 0.680400\n",
      "Epoch 48, CIFAR-10 Batch 3:  Loss     0.1251 Validation Accuracy 0.675400\n",
      "Epoch 48, CIFAR-10 Batch 4:  Loss     0.1160 Validation Accuracy 0.679000\n",
      "Epoch 48, CIFAR-10 Batch 5:  Loss     0.1051 Validation Accuracy 0.670600\n",
      "Epoch 49, CIFAR-10 Batch 1:  Loss     0.1587 Validation Accuracy 0.680000\n",
      "Epoch 49, CIFAR-10 Batch 2:  Loss     0.1684 Validation Accuracy 0.675400\n",
      "Epoch 49, CIFAR-10 Batch 3:  Loss     0.1499 Validation Accuracy 0.679400\n",
      "Epoch 49, CIFAR-10 Batch 4:  Loss     0.1382 Validation Accuracy 0.678000\n",
      "Epoch 49, CIFAR-10 Batch 5:  Loss     0.0880 Validation Accuracy 0.666800\n",
      "Epoch 50, CIFAR-10 Batch 1:  Loss     0.1759 Validation Accuracy 0.681000\n",
      "Epoch 50, CIFAR-10 Batch 2:  Loss     0.1234 Validation Accuracy 0.671800\n",
      "Epoch 50, CIFAR-10 Batch 3:  Loss     0.1099 Validation Accuracy 0.681000\n",
      "Epoch 50, CIFAR-10 Batch 4:  Loss     0.1344 Validation Accuracy 0.676800\n",
      "Epoch 50, CIFAR-10 Batch 5:  Loss     0.0946 Validation Accuracy 0.678400\n"
     ]
    }
   ],
   "source": [
    "\"\"\"\n",
    "DON'T MODIFY ANYTHING IN THIS CELL\n",
    "\"\"\"\n",
    "save_model_path = './image_classification'\n",
    "\n",
    "print('Training...')\n",
    "with tf.Session() as sess:\n",
    "    # Initializing the variables\n",
    "    sess.run(tf.global_variables_initializer())\n",
    "    \n",
    "    # Training cycle\n",
    "    for epoch in range(epochs):\n",
    "        # Loop over all batches\n",
    "        n_batches = 5\n",
    "        for batch_i in range(1, n_batches + 1):\n",
    "            for batch_features, batch_labels in helper.load_preprocess_training_batch(batch_i, batch_size):\n",
    "                train_neural_network(sess, optimizer, keep_probability, batch_features, batch_labels)\n",
    "            print('Epoch {:>2}, CIFAR-10 Batch {}:  '.format(epoch + 1, batch_i), end='')\n",
    "            print_stats(sess, batch_features, batch_labels, cost, accuracy)\n",
    "            \n",
    "    # Save Model\n",
    "    saver = tf.train.Saver()\n",
    "    save_path = saver.save(sess, save_model_path)"
   ]
  },
  {
   "cell_type": "markdown",
   "metadata": {},
   "source": [
    "# Checkpoint\n",
    "The model has been saved to disk.\n",
    "## Test Model\n",
    "Test your model against the test dataset.  This will be your final accuracy. You should have an accuracy greater than 50%. If you don't, keep tweaking the model architecture and parameters."
   ]
  },
  {
   "cell_type": "code",
   "execution_count": 212,
   "metadata": {
    "collapsed": false
   },
   "outputs": [
    {
     "name": "stdout",
     "output_type": "stream",
     "text": [
      "Testing Accuracy: 0.6785007911392406\n",
      "\n"
     ]
    },
    {
     "data": {
      "image/png": "[encoded data removed]",
      "text/plain": [
       "<matplotlib.figure.Figure at 0x11ee18198>"
      ]
     },
     "metadata": {
      "image/png": {
       "height": 319,
       "width": 355
      }
     },
     "output_type": "display_data"
    }
   ],
   "source": [
    "\"\"\"\n",
    "DON'T MODIFY ANYTHING IN THIS CELL\n",
    "\"\"\"\n",
    "%matplotlib inline\n",
    "%config InlineBackend.figure_format = 'retina'\n",
    "\n",
    "import tensorflow as tf\n",
    "import pickle\n",
    "import helper\n",
    "import random\n",
    "\n",
    "# Set batch size if not already set\n",
    "try:\n",
    "    if batch_size:\n",
    "        pass\n",
    "except NameError:\n",
    "    batch_size = 64\n",
    "\n",
    "save_model_path = './image_classification'\n",
    "n_samples = 4\n",
    "top_n_predictions = 3\n",
    "\n",
    "def test_model():\n",
    "    \"\"\"\n",
    "    Test the saved model against the test dataset\n",
    "    \"\"\"\n",
    "\n",
    "    test_features, test_labels = pickle.load(open('preprocess_training.p', mode='rb'))\n",
    "    loaded_graph = tf.Graph()\n",
    "\n",
    "    with tf.Session(graph=loaded_graph) as sess:\n",
    "        # Load model\n",
    "        loader = tf.train.import_meta_graph(save_model_path + '.meta')\n",
    "        loader.restore(sess, save_model_path)\n",
    "\n",
    "        # Get Tensors from loaded model\n",
    "        loaded_x = loaded_graph.get_tensor_by_name('x:0')\n",
    "        loaded_y = loaded_graph.get_tensor_by_name('y:0')\n",
    "        loaded_keep_prob = loaded_graph.get_tensor_by_name('keep_prob:0')\n",
    "        loaded_logits = loaded_graph.get_tensor_by_name('logits:0')\n",
    "        loaded_acc = loaded_graph.get_tensor_by_name('accuracy:0')\n",
    "        \n",
    "        # Get accuracy in batches for memory limitations\n",
    "        test_batch_acc_total = 0\n",
    "        test_batch_count = 0\n",
    "        \n",
    "        for train_feature_batch, train_label_batch in helper.batch_features_labels(test_features, test_labels, batch_size):\n",
    "            test_batch_acc_total += sess.run(\n",
    "                loaded_acc,\n",
    "                feed_dict={loaded_x: train_feature_batch, loaded_y: train_label_batch, loaded_keep_prob: 1.0})\n",
    "            test_batch_count += 1\n",
    "\n",
    "        print('Testing Accuracy: {}\\n'.format(test_batch_acc_total/test_batch_count))\n",
    "\n",
    "        # Print Random Samples\n",
    "        random_test_features, random_test_labels = tuple(zip(*random.sample(list(zip(test_features, test_labels)), n_samples)))\n",
    "        random_test_predictions = sess.run(\n",
    "            tf.nn.top_k(tf.nn.softmax(loaded_logits), top_n_predictions),\n",
    "            feed_dict={loaded_x: random_test_features, loaded_y: random_test_labels, loaded_keep_prob: 1.0})\n",
    "        helper.display_image_predictions(random_test_features, random_test_labels, random_test_predictions)\n",
    "\n",
    "\n",
    "test_model()"
   ]
  },
  {
   "cell_type": "markdown",
   "metadata": {},
   "source": [
    "## Why 50-70% Accuracy?\n",
    "You might be wondering why you can't get an accuracy any higher. First things first, 50% isn't bad for a simple CNN.  Pure guessing would get you 10% accuracy. However, you might notice people are getting scores [well above 70%](http://rodrigob.github.io/are_we_there_yet/build/classification_datasets_results.html#43494641522d3130).  That's because we haven't taught you all there is to know about neural networks. We still need to cover a few more techniques.\n",
    "## Submitting This Project\n",
    "When submitting this project, make sure to run all the cells before saving the notebook.  Save the notebook file as \"dlnd_image_classification.ipynb\" and save it as a HTML file under \"File\" -> \"Download as\".  Include the \"helper.py\" and \"problem_unittests.py\" files in your submission."
   ]
  }
 ],
 "metadata": {
  "kernelspec": {
   "display_name": "Python 3",
   "language": "python",
   "name": "python3"
  },
  "language_info": {
   "codemirror_mode": {
    "name": "ipython",
    "version": 3
   },
   "file_extension": ".py",
   "mimetype": "text/x-python",
   "name": "python",
   "nbconvert_exporter": "python",
   "pygments_lexer": "ipython3",
   "version": "3.6.0"
  }
 },
 "nbformat": 4,
 "nbformat_minor": 0
}

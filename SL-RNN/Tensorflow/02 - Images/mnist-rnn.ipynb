{
 "cells": [
  {
   "cell_type": "markdown",
   "metadata": {},
   "source": [
    "# MNIST using RNN\n",
    "\n",
    "Also check https://github.com/MorvanZhou/tutorials/blob/master/tensorflowTUT/tf20_RNN2/full_code.py\n",
    "\n",
    "And https://www.youtube.com/watch?v=SeffmcG42SY"
   ]
  },
  {
   "cell_type": "markdown",
   "metadata": {},
   "source": [
    "## Getting Started\n",
    "\n",
    "* Import the library to use.\n",
    "* This example uses tensorflow.\n",
    "* Datasets use the mnist dataset provided by tensorflow."
   ]
  },
  {
   "cell_type": "code",
   "execution_count": 1,
   "metadata": {
    "collapsed": true
   },
   "outputs": [],
   "source": [
    "import tensorflow as tf\n",
    "import numpy as np\n",
    "import matplotlib.pyplot as plt\n",
    "from tensorflow.examples.tutorials.mnist import input_data\n",
    "import tensorflow as tf \n",
    "\n",
    "import os\n",
    "import time\n",
    "\n",
    "tf.reset_default_graph()\n",
    "%matplotlib inline"
   ]
  },
  {
   "cell_type": "markdown",
   "metadata": {},
   "source": [
    "## Loading the dataset\n",
    "\n",
    "* Load the dataset you want to use.\n",
    "* Images: Monochrome images written in cursive from 0 to 9 (1 channel).\n",
    "* Label: Set to one_hot format.\n",
    "\n",
    "- 0 = [1 0 0 0 0 0 0 0 0 0]\n",
    "- 1 = [0 1 0 0 0 0 0 0 0 0]"
   ]
  },
  {
   "cell_type": "code",
   "execution_count": 2,
   "metadata": {},
   "outputs": [
    {
     "name": "stdout",
     "output_type": "stream",
     "text": [
      "Extracting MNIST_data/train-images-idx3-ubyte.gz\n",
      "Extracting MNIST_data/train-labels-idx1-ubyte.gz\n",
      "Extracting MNIST_data/t10k-images-idx3-ubyte.gz\n",
      "Extracting MNIST_data/t10k-labels-idx1-ubyte.gz\n",
      "Number of train data is 55000\n",
      "Number of test data is 10000\n"
     ]
    }
   ],
   "source": [
    "mnist = input_data.read_data_sets('MNIST_data', one_hot=True)\n",
    "print(\"Number of train data is %d\" % (mnist.train.num_examples))\n",
    "print(\"Number of test data is %d\" % (mnist.test.num_examples))"
   ]
  },
  {
   "cell_type": "code",
   "execution_count": 3,
   "metadata": {
    "collapsed": true
   },
   "outputs": [],
   "source": [
    "# set random seed for comparing results\n",
    "tf.set_random_seed(1)"
   ]
  },
  {
   "cell_type": "markdown",
   "metadata": {},
   "source": [
    "## Checking the dataset\n",
    "\n",
    "Check the image and label of the training data."
   ]
  },
  {
   "cell_type": "code",
   "execution_count": 4,
   "metadata": {},
   "outputs": [
    {
     "data": {
      "image/png": "[encoded data removed]",
      "text/plain": [
       "<matplotlib.figure.Figure at 0x11bffe940>"
      ]
     },
     "metadata": {},
     "output_type": "display_data"
    }
   ],
   "source": [
    "nsample = 1\n",
    "rand_idx = np.random.randint(mnist.train.images.shape[0], size=nsample)\n",
    "\n",
    "for i in rand_idx:\n",
    "    curr_img = np.reshape(mnist.train.images[i, :], (28,28))\n",
    "    curr_lbl = np.argmax(mnist.train.labels[i, :])\n",
    "    plt.matshow(curr_img, cmap=plt.get_cmap('gray'))\n",
    "    plt.title(\"\"+str(i)+\"th training image \"\n",
    "              + \"(label: \" + str(curr_lbl) + \")\")\n",
    "    plt.show()"
   ]
  },
  {
   "cell_type": "markdown",
   "metadata": {},
   "source": [
    "## Configuring RNNs for Image Classification\n",
    "\n",
    "Configure the 28x28 image as shown below for RNN input.\n",
    "\n",
    "* Input_vec_size: Use one of the images (28x28) as an input to the RNN.\n",
    "* Time_step_size: 28 lines are required to enter a single image (28x28). Therefore, time_step is 28.\n",
    "* Lstm_size: number of hidden units in the rnn_cell"
   ]
  },
  {
   "cell_type": "code",
   "execution_count": 5,
   "metadata": {
    "collapsed": true
   },
   "outputs": [],
   "source": [
    "# configuration\n",
    "#                        O * W + b -> 10 labels for each image, O[? 28], W[28 10], B[10]\n",
    "#                       ^ (O: output 28 vec from 28 vec input)\n",
    "#                       |\n",
    "#      +-+  +-+       +--+\n",
    "#      |1|->|2|-> ... |28| n_steps = 28\n",
    "#      +-+  +-+       +--+\n",
    "#       ^    ^    ...  ^\n",
    "#       |    |         |\n",
    "# img1:[28] [28]  ... [28]\n",
    "# img2:[28] [28]  ... [28]\n",
    "# img3:[28] [28]  ... [28]\n",
    "# ...\n",
    "# img128 or img256 (batch_size or test_size 128 or 256)"
   ]
  },
  {
   "cell_type": "code",
   "execution_count": 23,
   "metadata": {
    "collapsed": true
   },
   "outputs": [],
   "source": [
    "# hyperparameters\n",
    "\n",
    "n_epochs_experiment1 = 40000 \n",
    "n_epochs_experiment2 = 5\n",
    "lr = 0.001\n",
    "decay = 0.9\n",
    "\n",
    "batch_size = 256 \n",
    "\n",
    "n_inputs = 28   # MNIST data input or chunk_size (img shape: 28*28)\n",
    "n_steps = 28    # time_step_size or n_chunks\n",
    "\n",
    "n_hidden_units = 128 #Is the LSTM size\n",
    "\n",
    "n_classes = 10 #MNIST classes (0-9 digits)"
   ]
  },
  {
   "cell_type": "code",
   "execution_count": 7,
   "metadata": {
    "collapsed": true
   },
   "outputs": [],
   "source": [
    "def recurrent_neural_network(x):\n",
    "    layer = {'weights':tf.Variable(tf.random_normal([n_hidden_units,n_classes])),\n",
    "             'biases':tf.Variable(tf.random_normal([n_classes]))}\n",
    "\n",
    "    x = tf.transpose(x, [1,0,2])\n",
    "    x = tf.reshape(x, [-1, n_inputs])\n",
    "    x = tf.split(axis=0, num_or_size_splits=n_inputs, value=x)\n",
    "\n",
    "    lstm_cell = tf.contrib.rnn.BasicLSTMCell(n_hidden_units)\n",
    "    outputs, states = tf.contrib.rnn.static_rnn(lstm_cell, x, dtype=tf.float32)\n",
    "\n",
    "    output = tf.matmul(outputs[-1],layer['weights']) + layer['biases']\n",
    "\n",
    "    return output, states"
   ]
  },
  {
   "cell_type": "markdown",
   "metadata": {},
   "source": [
    "## Data conversion\n",
    "\n",
    "* Reshape training and test data from 1d to 2d.\n",
    "* Declare a placeholder for input and output"
   ]
  },
  {
   "cell_type": "code",
   "execution_count": 8,
   "metadata": {
    "collapsed": true
   },
   "outputs": [],
   "source": [
    "trX, trY, teX, teY = mnist.train.images, mnist.train.labels, mnist.test.images, mnist.test.labels\n",
    "trX = trX.reshape(-1, n_steps, n_inputs)\n",
    "teX = teX.reshape(-1, n_steps, n_inputs)\n",
    "\n",
    "X = tf.placeholder(tf.float32, [None, n_steps, n_inputs]) # size (128,28,28)\n",
    "Y = tf.placeholder(tf.float32, [None, n_classes])         # size (128,10)"
   ]
  },
  {
   "cell_type": "markdown",
   "metadata": {},
   "source": [
    "## Model\n",
    "\n",
    "* Generate model for size of hidden unit and output unit\n",
    "* Create a model"
   ]
  },
  {
   "cell_type": "code",
   "execution_count": 9,
   "metadata": {},
   "outputs": [],
   "source": [
    "py_x, state_size = recurrent_neural_network(X)"
   ]
  },
  {
   "cell_type": "markdown",
   "metadata": {},
   "source": [
    "## Declare and optimize the loss function"
   ]
  },
  {
   "cell_type": "code",
   "execution_count": 11,
   "metadata": {},
   "outputs": [],
   "source": [
    "# Define loss and optimizer\n",
    "cost = tf.reduce_mean(tf.nn.softmax_cross_entropy_with_logits(logits=py_x, labels=Y))\n",
    "#optimizer = tf.train.RMSPropOptimizer(lr, decay).minimize(cost)\n",
    "optimizer = tf.train.AdamOptimizer(lr).minimize(cost)\n",
    "#predict_op = tf.argmax(py_x, 1)\n",
    "# Evaluate model\n",
    "correct_pred = tf.equal(tf.argmax(py_x,1), tf.argmax(Y,1))\n",
    "accuracy = tf.reduce_mean(tf.cast(correct_pred, tf.float32))"
   ]
  },
  {
   "cell_type": "markdown",
   "metadata": {},
   "source": [
    "## Execute the model\n",
    "\n",
    "* There are two examples on how to train and test the model."
   ]
  },
  {
   "cell_type": "code",
   "execution_count": 20,
   "metadata": {},
   "outputs": [
    {
     "name": "stdout",
     "output_type": "stream",
     "text": [
      "Iter 2560, Minibatch Loss= 1.777941, Training Accuracy= 0.39062\n",
      "Iter 5120, Minibatch Loss= 1.480698, Training Accuracy= 0.49219\n",
      "Iter 7680, Minibatch Loss= 1.174730, Training Accuracy= 0.57031\n",
      "Iter 10240, Minibatch Loss= 1.026648, Training Accuracy= 0.65625\n",
      "Iter 12800, Minibatch Loss= 0.849184, Training Accuracy= 0.71484\n",
      "Iter 15360, Minibatch Loss= 0.656576, Training Accuracy= 0.80078\n",
      "Iter 17920, Minibatch Loss= 0.600989, Training Accuracy= 0.76562\n",
      "Iter 20480, Minibatch Loss= 0.562003, Training Accuracy= 0.82031\n",
      "Iter 23040, Minibatch Loss= 0.393789, Training Accuracy= 0.89453\n",
      "Iter 25600, Minibatch Loss= 0.321680, Training Accuracy= 0.89062\n",
      "Iter 28160, Minibatch Loss= 0.242234, Training Accuracy= 0.92969\n",
      "Iter 30720, Minibatch Loss= 0.273883, Training Accuracy= 0.91016\n",
      "Iter 33280, Minibatch Loss= 0.329709, Training Accuracy= 0.91016\n",
      "Iter 35840, Minibatch Loss= 0.399643, Training Accuracy= 0.87891\n",
      "Iter 38400, Minibatch Loss= 0.404943, Training Accuracy= 0.88281\n",
      "Optimization Finished!\n",
      "Testing Accuracy: 0.929688\n"
     ]
    }
   ],
   "source": [
    "# Initializing the variables\n",
    "init = tf.global_variables_initializer()\n",
    "display_step = 10\n",
    "\n",
    "# Launch the graph\n",
    "with tf.Session() as sess:\n",
    "    sess.run(init)\n",
    "    step = 1\n",
    "    # Keep training until reach max iterations\n",
    "    while step * batch_size < n_epochs:\n",
    "        batch_x, batch_y = mnist.train.next_batch(batch_size)\n",
    "        # Reshape data to get 28 seq of 28 elements\n",
    "        batch_x = batch_x.reshape((batch_size, n_steps, n_inputs))\n",
    "        # Run optimization op (backprop)\n",
    "        sess.run(optimizer, feed_dict={X: batch_x, Y: batch_y})\n",
    "        if step % display_step == 0:\n",
    "            # Calculate batch accuracy\n",
    "            acc = sess.run(accuracy, feed_dict={X: batch_x, Y: batch_y})\n",
    "            # Calculate batch loss\n",
    "            loss = sess.run(cost, feed_dict={X: batch_x, Y: batch_y})\n",
    "            print(\"Iter \" + str(step*batch_size) + \", Minibatch Loss= \" + \\\n",
    "                  \"{:.6f}\".format(loss) + \", Training Accuracy= \" + \\\n",
    "                  \"{:.5f}\".format(acc))\n",
    "        step += 1\n",
    "    print(\"Optimization Finished!\")\n",
    "\n",
    "    # Calculate accuracy for 128 mnist test images\n",
    "    test_len = 128\n",
    "    test_data = mnist.test.images[:test_len].reshape((-1, n_steps, n_inputs))\n",
    "    test_label = mnist.test.labels[:test_len]\n",
    "    print(\"Testing Accuracy:\", \\\n",
    "        sess.run(accuracy, feed_dict={X: test_data, Y: test_label}))\n",
    "    \n",
    "    \n",
    "    \n",
    "    predict_op = tf.argmax(py_x, 1)"
   ]
  },
  {
   "cell_type": "code",
   "execution_count": 22,
   "metadata": {},
   "outputs": [
    {
     "name": "stdout",
     "output_type": "stream",
     "text": [
      "0 0.941406\n",
      "1 0.945312\n",
      "2 0.980469\n",
      "3 0.976562\n",
      "4 0.96875\n"
     ]
    }
   ],
   "source": [
    "# Launch the graph in a session\n",
    "test_size = 256\n",
    "\n",
    "with tf.Session() as sess:\n",
    "    # Initializing the variables\n",
    "    sess.run(tf.global_variables_initializer())\n",
    "\n",
    "    for i in range(n_epochs):\n",
    "        for start, end in zip(range(0, len(trX), batch_size), range(batch_size, len(trX)+1, batch_size)):\n",
    "            sess.run(optimizer, feed_dict={X: trX[start:end], Y: trY[start:end]})\n",
    "\n",
    "        test_indices = np.arange(len(teX))  # Get a Test Batch\n",
    "        np.random.shuffle(test_indices)\n",
    "        test_indices = test_indices[0:test_size]\n",
    "\n",
    "        print(i, sess.run(accuracy, feed_dict={X: teX[test_indices], Y: teY[test_indices]}))"
   ]
  }
 ],
 "metadata": {
  "kernelspec": {
   "display_name": "Python 3",
   "language": "python",
   "name": "python3"
  },
  "language_info": {
   "codemirror_mode": {
    "name": "ipython",
    "version": 3
   },
   "file_extension": ".py",
   "mimetype": "text/x-python",
   "name": "python",
   "nbconvert_exporter": "python",
   "pygments_lexer": "ipython3",
   "version": "3.6.1"
  }
 },
 "nbformat": 4,
 "nbformat_minor": 2
}
